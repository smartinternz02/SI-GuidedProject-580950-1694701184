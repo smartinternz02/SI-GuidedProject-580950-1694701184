{
  "nbformat": 4,
  "nbformat_minor": 0,
  "metadata": {
    "colab": {
      "provenance": []
    },
    "kernelspec": {
      "name": "python3",
      "display_name": "Python 3"
    },
    "language_info": {
      "name": "python"
    }
  },
  "cells": [
    {
      "cell_type": "markdown",
      "source": [
        "# Assignment 1"
      ],
      "metadata": {
        "id": "8c_AHnG0USoZ"
      }
    },
    {
      "cell_type": "markdown",
      "source": [
        "####Aadhya Enllawar\n",
        "######21BCE8096\n",
        "######VIT-AP"
      ],
      "metadata": {
        "id": "6f-UHW_dUW9Y"
      }
    },
    {
      "cell_type": "code",
      "execution_count": null,
      "metadata": {
        "colab": {
          "base_uri": "https://localhost:8080/"
        },
        "id": "a41GFZUuT2uz",
        "outputId": "8119340d-f8fc-4122-c65d-17d807c64f46"
      },
      "outputs": [
        {
          "output_type": "stream",
          "name": "stdout",
          "text": [
            "         F1        F2        F3        F4\n",
            "0  0.411461  0.604491  0.186199  0.945139\n",
            "1  0.010765  0.806820  0.878565  0.096903\n",
            "2  0.754730  0.620702  0.620575  0.401508\n",
            "3  0.892342  0.313477  0.270856  0.743407\n",
            "   Random Value 1  Random Value 2  Random Value 3  Random Value 4\n",
            "0        0.411461        0.604491        0.186199        0.945139\n",
            "1        0.010765        0.806820        0.878565        0.096903\n",
            "2        0.754730        0.620702        0.620575        0.401508\n",
            "3        0.892342        0.313477        0.270856        0.743407\n",
            "       Random Value 1  Random Value 2  Random Value 3  Random Value 4\n",
            "count        4.000000        4.000000        4.000000        4.000000\n",
            "mean         0.517325        0.586373        0.489049        0.546739\n",
            "std          0.393620        0.203778        0.320598        0.374542\n",
            "min          0.010765        0.313477        0.186199        0.096903\n",
            "25%          0.311287        0.531738        0.249692        0.325357\n",
            "50%          0.583096        0.612596        0.445716        0.572458\n",
            "75%          0.789133        0.667231        0.685073        0.793840\n",
            "max          0.892342        0.806820        0.878565        0.945139\n",
            "Null Values:\n",
            "Random Value 1    0\n",
            "Random Value 2    0\n",
            "Random Value 3    0\n",
            "Random Value 4    0\n",
            "dtype: int64\n",
            "\n",
            "Data Types:\n",
            "Random Value 1    float64\n",
            "Random Value 2    float64\n",
            "Random Value 3    float64\n",
            "Random Value 4    float64\n",
            "dtype: object\n",
            "Using .loc[]:\n",
            "0    0.604491\n",
            "1    0.806820\n",
            "2    0.620702\n",
            "3    0.313477\n",
            "Name: Random Value 2, dtype: float64\n",
            "0    0.186199\n",
            "1    0.878565\n",
            "2    0.620575\n",
            "3    0.270856\n",
            "Name: Random Value 3, dtype: float64\n"
          ]
        }
      ],
      "source": [
        "import pandas as pd\n",
        "import numpy as np\n",
        "num_observation = 4\n",
        "num_features = 4\n",
        "random_values = np.random.rand(num_observation, num_features)\n",
        "df = pd.DataFrame(random_values, columns=['F1', 'F2', 'F3', 'F4'])\n",
        "print(df)\n",
        "\n",
        "new_column_names = {\n",
        "    'F1': 'Random Value 1',\n",
        "    'F2': 'Random Value 2',\n",
        "    'F3': 'Random Value 3',\n",
        "    'F4': 'Random Value 4'\n",
        "}\n",
        "df = df.rename(columns=new_column_names)\n",
        "print(df)\n",
        "\n",
        "descriptive_stats = df.describe()\n",
        "print(descriptive_stats)\n",
        "\n",
        "null_values = df.isnull().sum()\n",
        "\n",
        "data_types = df.dtypes\n",
        "print(\"Null Values:\")\n",
        "print(null_values)\n",
        "print(\"\\nData Types:\")\n",
        "print(data_types)\n",
        "\n",
        "random_value_2_loc = df.loc[:, 'Random Value 2']\n",
        "random_value_3_loc = df.loc[:, 'Random Value 3']\n",
        "print(\"Using .loc[]:\")\n",
        "print(random_value_2_loc)\n",
        "print(random_value_3_loc)"
      ]
    }
  ]
}